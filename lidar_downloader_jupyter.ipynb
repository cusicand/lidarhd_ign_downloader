{
 "cells": [
  {
   "cell_type": "code",
   "execution_count": null,
   "metadata": {},
   "outputs": [],
   "source": [
    "# ---------------------------------------------------------------------- #\n",
    "# GeoMultiCorr (GMC) project\n",
    "# lidar_downloader_jupyter.ipynb\n",
    "# creation date: 2024-07-09.\n",
    "#\n",
    "# Author(s) metadata\n",
    "# -> author: Diego CUSICANQUI 1 & Jean Baptiste BARRE 2\n",
    "# -> affiliation 1: CNES | ISTerre | Univ. Grenoble Alpes\n",
    "# -> affiliation 2: IGE | Univ. Grenoble Alpes\n",
    "# -> email(s): diego.cusicanqui@univ-grenoble-alpes.fr | diego.cusicanqui.vg@gmail.com\n",
    "# ->           jb.barre@gmail.com\n",
    "#\n",
    "#  Copyright (C) Diego Cusicanqui, 2024 | All rights reserved.\n",
    "# ---------------------------------------------------------------------- #"
   ]
  },
  {
   "cell_type": "markdown",
   "metadata": {},
   "source": [
    "# Exemple of how to use LiDAR downloader on jupyter notebook"
   ]
  },
  {
   "cell_type": "code",
   "execution_count": 1,
   "metadata": {},
   "outputs": [],
   "source": [
    "import lidar_downloader"
   ]
  },
  {
   "cell_type": "code",
   "execution_count": 2,
   "metadata": {},
   "outputs": [
    {
     "name": "stdout",
     "output_type": "stream",
     "text": [
      "usage: lidarhd_downloader.py.py [-h] [-out_data OUT_DATA_PATH]\n",
      "                                [-tr DEM_RESOLUTION]\n",
      "                                [-compute_elev {mean,min,max,median}]\n",
      "                                [-dtype {gtif,vrt}] [-force_database]\n",
      "                                [-rm_tiles] [-pdensity] [-cpu_w CPU_WORKLOAD]\n",
      "                                aoi_file\n",
      "\n",
      "    --------------------------------------------------\n",
      "    lidarhd downloader --> 'lidarhd_downloader.py' module\n",
      "\n",
      "    Script to download lidar-hd classified tiles from IGN.\n",
      "    --------------------------------------------------\n",
      "\n",
      "positional arguments:\n",
      "  aoi_file              path to AOI file. File can be either in *.shp or\n",
      "                        *.gpkg format\n",
      "\n",
      "options:\n",
      "  -h, --help            show this help message and exit\n",
      "  -out_data OUT_DATA_PATH, --out_data_path OUT_DATA_PATH\n",
      "                        Out data-path directory. If not specified, data will\n",
      "                        be stored in lidar_downloader.py base-path by default.\n",
      "  -tr DEM_RESOLUTION, --dem_resolution DEM_RESOLUTION\n",
      "                        resolution of output DEM. Default value : 1.0\n",
      "  -compute_elev {mean,min,max,median}, --compute_elevation {mean,min,max,median}\n",
      "                        Compute elevation statistics. Default value : mean\n",
      "  -dtype {gtif,vrt}, --file_data_type {gtif,vrt}\n",
      "                        Outout data format between GeoTIff and Virtual Dataset\n",
      "                        (VRT). Default value : gtif\n",
      "  -force_database, --force_redownload_database\n",
      "                        Force re-download of IGN database. Default value:\n",
      "                        False\n",
      "  -rm_tiles, --remove_tiles\n",
      "                        Remove individual downloaded tiles after processing.\n",
      "                        Default value: True\n",
      "  -pdensity, --point_density_map\n",
      "                        Generates point density map for given resolution.\n",
      "                        Requires pdal_wrench installed. Default value: False\n",
      "  -cpu_w CPU_WORKLOAD, --cpu_workload CPU_WORKLOAD\n",
      "                        Multi-threaded process ratio. Default value: 0.6\n"
     ]
    }
   ],
   "source": [
    "!lidar_downloader.py --help"
   ]
  },
  {
   "cell_type": "code",
   "execution_count": 3,
   "metadata": {},
   "outputs": [],
   "source": [
    "args_list = ['/home/cusicand/05_Devs/lidarhd_ign_downloader/aoi_example.gpkg',\n",
    "             '--out_data_path', '/home/cusicand/03_Data/lidar_ign_test/',\n",
    "             '--dem_resolution', '1.0',\n",
    "             '--compute_elevation', 'mean',\n",
    "             '--file_data_type', 'gtif',\n",
    "             '--remove_tiles',\n",
    "             '--point_density_map',\n",
    "             '--cpu_workload', '0.6']"
   ]
  },
  {
   "cell_type": "code",
   "execution_count": 4,
   "metadata": {},
   "outputs": [],
   "source": [
    "parser = lidar_downloader.getparser()\n",
    "args = parser.parse_args(args_list)"
   ]
  },
  {
   "cell_type": "code",
   "execution_count": 5,
   "metadata": {},
   "outputs": [
    {
     "name": "stdout",
     "output_type": "stream",
     "text": [
      "[ GMC-info ] : Data will be stored in /home/cusicand/03_Data/lidar_ign_test/raw_laz_data\n",
      "[ GMC-info ] : Data will be stored in /home/cusicand/03_Data/lidar_ign_test/raw_laz_data\n",
      "[ GMC-info ] : Working on: /home/cusicand/03_Data/lidar_ign_test\n",
      "[ GMC-info ] : Reading lidarHD database . . .\n",
      "[ GMC-info ] : Reading AOI file . . .\n",
      "[ GMC-info ] : Iterating through 1/1 features within AOI\n",
      "[ GMC-info ] : 2 tiles intersects 'laurichard' AOI.\n",
      "[ GMC-info ] : LHD_FXX_0967_6441_PTS_O_LAMB93_IGN69.copc.laz already exists.\n",
      "[ GMC-info ] : LHD_FXX_0967_6442_PTS_O_LAMB93_IGN69.copc.laz already exists.\n"
     ]
    },
    {
     "name": "stderr",
     "output_type": "stream",
     "text": [
      "  0%|          | 0/2 [00:00<?, ?it/s]"
     ]
    },
    {
     "name": "stdout",
     "output_type": "stream",
     "text": [
      "[ GMC-info ] : Converting 'LHD_FXX_0967_6441_PTS_O_LAMB93_IGN69.copc.laz' file into 'LHD_FXX_0967_6441_PTS_O_LAMB93_IGN69.tif'\n",
      "[ GMC-info ] : Computing point density for 'LHD_FXX_0967_6441_PTS_O_LAMB93_IGN69.copc.laz' file into 'LHD_FXX_0967_6441_PTS_O_LAMB93_IGN69_PointDensity.tif'\n",
      "[ GMC-info ] : Converting 'LHD_FXX_0967_6442_PTS_O_LAMB93_IGN69.copc.laz' file into 'LHD_FXX_0967_6442_PTS_O_LAMB93_IGN69.tif'\n",
      "[ GMC-info ] : Computing point density for 'LHD_FXX_0967_6442_PTS_O_LAMB93_IGN69.copc.laz' file into 'LHD_FXX_0967_6442_PTS_O_LAMB93_IGN69_PointDensity.tif'\n"
     ]
    },
    {
     "name": "stderr",
     "output_type": "stream",
     "text": [
      "100%|██████████| 2/2 [00:00<00:00, 41.29it/s]\n"
     ]
    },
    {
     "name": "stdout",
     "output_type": "stream",
     "text": [
      "[ GMC-info ] : Merging DEM tiles into 'laurichard_Res1.0_CompElevmean_merged.tif'.\n",
      "[ GMC-info ] : Merging LiDAR point density tiles into 'laurichard_Res1.0_CompElevmean_merged_PointDensity.tif'.\n",
      "[ GMC-info ] : Removing individual DEM tiles.\n",
      "[ GMC-info ] : Removing individual LiDAR point density tiles.\n"
     ]
    }
   ],
   "source": [
    "lidar_downloader.main(args)"
   ]
  },
  {
   "cell_type": "code",
   "execution_count": null,
   "metadata": {},
   "outputs": [],
   "source": []
  }
 ],
 "metadata": {
  "kernelspec": {
   "display_name": "rgdyn",
   "language": "python",
   "name": "python3"
  },
  "language_info": {
   "codemirror_mode": {
    "name": "ipython",
    "version": 3
   },
   "file_extension": ".py",
   "mimetype": "text/x-python",
   "name": "python",
   "nbconvert_exporter": "python",
   "pygments_lexer": "ipython3",
   "version": "3.10.0"
  }
 },
 "nbformat": 4,
 "nbformat_minor": 2
}
